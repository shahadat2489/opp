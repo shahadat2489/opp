{
 "cells": [
  {
   "cell_type": "code",
   "execution_count": 43,
   "id": "a22e0cf9",
   "metadata": {},
   "outputs": [
    {
     "name": "stdout",
     "output_type": "stream",
     "text": [
      "Gittu 17\n"
     ]
    }
   ],
   "source": [
    "class student:\n",
    "    pass\n",
    "\n",
    "tawhid = student()\n",
    "gittu = student()\n",
    "\n",
    "tawhid.first_name = \"Tawhidul\"\n",
    "tawhid.last_name = \"Islam\"\n",
    "tawhid.age = 17\n",
    "tawhid.classs = \"11th\"\n",
    "\n",
    "gittu.first_name = \"Gittu\"\n",
    "gittu.last_name = \"Mia\"\n",
    "gittu.age = 17\n",
    "gittu.classs = \"11th\"\n",
    "\n",
    "print(gittu.first_name, tawhid.age)\n"
   ]
  },
  {
   "cell_type": "code",
   "execution_count": 11,
   "id": "b3f093ef",
   "metadata": {},
   "outputs": [
    {
     "name": "stdout",
     "output_type": "stream",
     "text": [
      "First Name Tawhidul Last Name Islam Joining Date 10/10/2019\n"
     ]
    }
   ],
   "source": [
    "class employee:\n",
    "\n",
    "    \n",
    "    def employee_details(self):\n",
    "        return f\"First Name {self.first_name} Last Name {self.last_name} Joining Date {self.joining_date}\"\n",
    "    \n",
    "tawhid = employee()\n",
    "gittu = employee()\n",
    "\n",
    "tawhid.first_name = \"Tawhidul\"\n",
    "tawhid.last_name = \"Islam\"\n",
    "tawhid.joining_date = \"10/10/2019\"\n",
    "\n",
    "gittu.first_name = \"Gittu\"\n",
    "gittu.last_name = \"Mia\"\n",
    "gittu.joining_date = \"01/12/2018\"\n",
    "\n",
    "print(tawhid.employee_details())\n"
   ]
  },
  {
   "cell_type": "code",
   "execution_count": 50,
   "id": "f1e4e4c1",
   "metadata": {},
   "outputs": [],
   "source": [
    "class Employee:\n",
    "    \n",
    "    first_name = \"\"\n",
    "    last_name = \"\"\n",
    "    dept = \"\"\n",
    "    joining = \"\"\n",
    "\n",
    "    \n",
    "    def __init__(self, f_name, l_name, dept, joining_date):\n",
    "        self.first_name = f_name\n",
    "        self.last_name = l_name\n",
    "        self.dept = dept\n",
    "        self.joining = joining_date\n",
    "    \n",
    "    def get_first_name(self,):\n",
    "        first_name = input(\"Name:\")\n",
    "        return name\n",
    "        \n",
    "    "
   ]
  },
  {
   "cell_type": "code",
   "execution_count": 51,
   "id": "f947013f",
   "metadata": {},
   "outputs": [],
   "source": [
    "employee = Employee(\"Tawhidul\", \"Islam\",\"Accounts\", \"01.01.2015\")"
   ]
  },
  {
   "cell_type": "code",
   "execution_count": 52,
   "id": "94b007d0",
   "metadata": {},
   "outputs": [
    {
     "data": {
      "text/plain": [
       "'Tawhidul'"
      ]
     },
     "execution_count": 52,
     "metadata": {},
     "output_type": "execute_result"
    }
   ],
   "source": [
    "employee.first_name"
   ]
  },
  {
   "cell_type": "code",
   "execution_count": 48,
   "id": "485fe03e",
   "metadata": {},
   "outputs": [
    {
     "data": {
      "text/plain": [
       "'Islam'"
      ]
     },
     "execution_count": 48,
     "metadata": {},
     "output_type": "execute_result"
    }
   ],
   "source": [
    "employee.last_name"
   ]
  },
  {
   "cell_type": "code",
   "execution_count": 53,
   "id": "fbadee61",
   "metadata": {},
   "outputs": [
    {
     "data": {
      "text/plain": [
       "'Accounts'"
      ]
     },
     "execution_count": 53,
     "metadata": {},
     "output_type": "execute_result"
    }
   ],
   "source": [
    "employee.dept"
   ]
  },
  {
   "cell_type": "code",
   "execution_count": 54,
   "id": "17160224",
   "metadata": {},
   "outputs": [
    {
     "name": "stdout",
     "output_type": "stream",
     "text": [
      "Name:Abul\n"
     ]
    },
    {
     "data": {
      "text/plain": [
       "'Abul'"
      ]
     },
     "execution_count": 54,
     "metadata": {},
     "output_type": "execute_result"
    }
   ],
   "source": [
    "employee.get_first_name()"
   ]
  },
  {
   "cell_type": "code",
   "execution_count": null,
   "id": "d4ab67f3",
   "metadata": {},
   "outputs": [],
   "source": []
  }
 ],
 "metadata": {
  "kernelspec": {
   "display_name": "Python 3",
   "language": "python",
   "name": "python3"
  },
  "language_info": {
   "codemirror_mode": {
    "name": "ipython",
    "version": 3
   },
   "file_extension": ".py",
   "mimetype": "text/x-python",
   "name": "python",
   "nbconvert_exporter": "python",
   "pygments_lexer": "ipython3",
   "version": "3.8.8"
  }
 },
 "nbformat": 4,
 "nbformat_minor": 5
}
